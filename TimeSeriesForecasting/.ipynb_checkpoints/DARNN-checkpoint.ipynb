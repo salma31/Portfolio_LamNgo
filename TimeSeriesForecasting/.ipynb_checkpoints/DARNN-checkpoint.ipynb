{
 "cells": [
  {
   "cell_type": "markdown",
   "metadata": {},
   "source": [
    "## Setup"
   ]
  },
  {
   "cell_type": "code",
   "execution_count": 1,
   "metadata": {
    "colab": {
     "base_uri": "https://localhost:8080/"
    },
    "executionInfo": {
     "elapsed": 21046,
     "status": "ok",
     "timestamp": 1650148940314,
     "user": {
      "displayName": "Lam Ngo",
      "userId": "10830440175711572344"
     },
     "user_tz": -480
    },
    "id": "Q1O8AxjqYUoC",
    "outputId": "206a8643-4455-4845-ad75-64e543c3a1c4"
   },
   "outputs": [
    {
     "name": "stdout",
     "output_type": "stream",
     "text": [
      "Mounted at /content/drive\n"
     ]
    }
   ],
   "source": [
    "from google.colab import drive\n",
    "drive.mount('/content/drive')"
   ]
  },
  {
   "cell_type": "code",
   "execution_count": 2,
   "metadata": {
    "executionInfo": {
     "elapsed": 1614,
     "status": "ok",
     "timestamp": 1650148941925,
     "user": {
      "displayName": "Lam Ngo",
      "userId": "10830440175711572344"
     },
     "user_tz": -480
    },
    "id": "gCAI_O2vYeZH"
   },
   "outputs": [],
   "source": [
    "import pandas as pd\n",
    "import matplotlib.pyplot as plt\n",
    "import sklearn\n",
    "import xgboost as xgb\n",
    "from sklearn.metrics import mean_squared_error, mean_absolute_error\n",
    "import numpy as np\n",
    "from scipy.stats import pearsonr\n",
    "dataroot = '/content/drive/MyDrive/AIST_Project/traffic/traffic_df.csv'\n",
    "#dataroot = \"/content/drive/MyDrive/AIST_Project/traffic/nasdaq100_padding.csv\""
   ]
  },
  {
   "cell_type": "code",
   "execution_count": 3,
   "metadata": {
    "colab": {
     "base_uri": "https://localhost:8080/",
     "height": 35
    },
    "executionInfo": {
     "elapsed": 5718,
     "status": "ok",
     "timestamp": 1650148947638,
     "user": {
      "displayName": "Lam Ngo",
      "userId": "10830440175711572344"
     },
     "user_tz": -480
    },
    "id": "bzzxfDiqYgNA",
    "outputId": "7a767f21-fbe8-4084-f46b-080d2cc6bee1"
   },
   "outputs": [
    {
     "data": {
      "application/vnd.google.colaboratory.intrinsic+json": {
       "type": "string"
      },
      "text/plain": [
       "'1.10.0+cu111'"
      ]
     },
     "execution_count": 3,
     "metadata": {},
     "output_type": "execute_result"
    }
   ],
   "source": [
    "from pathlib import Path\n",
    "import os\n",
    "import sys\n",
    "\n",
    "dirname = Path(os.path.abspath('/content/drive/MyDrive/AIST_Project/traffic/'))\n",
    "root = dirname.parent\n",
    "\n",
    "sys.path.insert(0, str(root))\n",
    "\n",
    "import torch\n",
    "\n",
    "torch.__version__"
   ]
  },
  {
   "cell_type": "markdown",
   "metadata": {},
   "source": [
    "## Parameters"
   ]
  },
  {
   "cell_type": "code",
   "execution_count": 4,
   "metadata": {
    "executionInfo": {
     "elapsed": 10,
     "status": "ok",
     "timestamp": 1650148947639,
     "user": {
      "displayName": "Lam Ngo",
      "userId": "10830440175711572344"
     },
     "user_tz": -480
    },
    "id": "YwlOEL4GYpWu"
   },
   "outputs": [],
   "source": [
    "NORMALIZE_DATA = True\n",
    "WINDOW_SIZE = 48\n",
    "Y_DIM = 1\n",
    "ENCODER_HIDDEN_STATES = 128\n",
    "DECODER_HIDDEN_STATES = 128\n",
    "BATCH_SIZE = 256\n",
    "\n",
    "VALIDATION_RATIO = 0.1\n",
    "DROPOUT = 0"
   ]
  },
  {
   "cell_type": "code",
   "execution_count": 5,
   "metadata": {
    "colab": {
     "base_uri": "https://localhost:8080/",
     "height": 905
    },
    "executionInfo": {
     "elapsed": 21680,
     "status": "ok",
     "timestamp": 1650148969309,
     "user": {
      "displayName": "Lam Ngo",
      "userId": "10830440175711572344"
     },
     "user_tz": -480
    },
    "id": "-W819_saa8PA",
    "outputId": "2b16763c-bc83-408c-ccc3-f1fde7403e06"
   },
   "outputs": [
    {
     "name": "stdout",
     "output_type": "stream",
     "text": [
      "Collecting poutyne\n",
      "  Downloading Poutyne-1.10.1-py3-none-any.whl (210 kB)\n",
      "\u001b[K     |████████████████████████████████| 210 kB 5.3 MB/s \n",
      "\u001b[?25hCollecting torchmetrics\n",
      "  Downloading torchmetrics-0.8.0-py3-none-any.whl (408 kB)\n",
      "\u001b[K     |████████████████████████████████| 408 kB 43.2 MB/s \n",
      "\u001b[?25hRequirement already satisfied: numpy in /usr/local/lib/python3.7/dist-packages (from poutyne) (1.21.5)\n",
      "Requirement already satisfied: torch in /usr/local/lib/python3.7/dist-packages (from poutyne) (1.10.0+cu111)\n",
      "Requirement already satisfied: typing-extensions in /usr/local/lib/python3.7/dist-packages (from torch->poutyne) (4.1.1)\n",
      "Requirement already satisfied: packaging in /usr/local/lib/python3.7/dist-packages (from torchmetrics->poutyne) (21.3)\n",
      "Collecting pyDeprecate==0.3.*\n",
      "  Downloading pyDeprecate-0.3.2-py3-none-any.whl (10 kB)\n",
      "Requirement already satisfied: pyparsing!=3.0.5,>=2.0.2 in /usr/local/lib/python3.7/dist-packages (from packaging->torchmetrics->poutyne) (3.0.8)\n",
      "Installing collected packages: pyDeprecate, torchmetrics, poutyne\n",
      "Successfully installed poutyne-1.10.1 pyDeprecate-0.3.2 torchmetrics-0.8.0\n",
      "Requirement already satisfied: torchmetrics in /usr/local/lib/python3.7/dist-packages (0.8.0)\n",
      "Requirement already satisfied: numpy>=1.17.2 in /usr/local/lib/python3.7/dist-packages (from torchmetrics) (1.21.5)\n",
      "Requirement already satisfied: pyDeprecate==0.3.* in /usr/local/lib/python3.7/dist-packages (from torchmetrics) (0.3.2)\n",
      "Requirement already satisfied: torch>=1.3.1 in /usr/local/lib/python3.7/dist-packages (from torchmetrics) (1.10.0+cu111)\n",
      "Requirement already satisfied: packaging in /usr/local/lib/python3.7/dist-packages (from torchmetrics) (21.3)\n",
      "Requirement already satisfied: typing-extensions in /usr/local/lib/python3.7/dist-packages (from torch>=1.3.1->torchmetrics) (4.1.1)\n",
      "Requirement already satisfied: pyparsing!=3.0.5,>=2.0.2 in /usr/local/lib/python3.7/dist-packages (from packaging->torchmetrics) (3.0.8)\n",
      "Collecting get-rolling-window\n",
      "  Downloading get_rolling_window-1.0.0-py3-none-any.whl (3.7 kB)\n",
      "Requirement already satisfied: numpy in /usr/local/lib/python3.7/dist-packages (from get-rolling-window) (1.21.5)\n",
      "Installing collected packages: get-rolling-window\n",
      "Successfully installed get-rolling-window-1.0.0\n",
      "Collecting da-rnn[torch]\n",
      "  Downloading da_rnn-1.0.2-py3-none-any.whl (16 kB)\n",
      "Collecting numpy<=1.19.5\n",
      "  Downloading numpy-1.19.5-cp37-cp37m-manylinux2010_x86_64.whl (14.8 MB)\n",
      "\u001b[K     |████████████████████████████████| 14.8 MB 5.1 MB/s \n",
      "\u001b[?25hRequirement already satisfied: torch in /usr/local/lib/python3.7/dist-packages (from da-rnn[torch]) (1.10.0+cu111)\n",
      "Requirement already satisfied: typing-extensions in /usr/local/lib/python3.7/dist-packages (from torch->da-rnn[torch]) (4.1.1)\n",
      "Installing collected packages: numpy, da-rnn\n",
      "  Attempting uninstall: numpy\n",
      "    Found existing installation: numpy 1.21.5\n",
      "    Uninstalling numpy-1.21.5:\n",
      "      Successfully uninstalled numpy-1.21.5\n",
      "\u001b[31mERROR: pip's dependency resolver does not currently take into account all the packages that are installed. This behaviour is the source of the following dependency conflicts.\n",
      "tensorflow 2.8.0 requires tf-estimator-nightly==2.8.0.dev2021122109, which is not installed.\n",
      "tensorflow 2.8.0 requires numpy>=1.20, but you have numpy 1.19.5 which is incompatible.\n",
      "datascience 0.10.6 requires folium==0.2.1, but you have folium 0.8.3 which is incompatible.\n",
      "albumentations 0.1.12 requires imgaug<0.2.7,>=0.2.5, but you have imgaug 0.2.9 which is incompatible.\u001b[0m\n",
      "Successfully installed da-rnn-1.0.2 numpy-1.19.5\n"
     ]
    },
    {
     "data": {
      "application/vnd.colab-display-data+json": {
       "pip_warning": {
        "packages": [
         "numpy"
        ]
       }
      }
     },
     "metadata": {},
     "output_type": "display_data"
    }
   ],
   "source": [
    "!pip install poutyne\n",
    "!pip install torchmetrics\n",
    "!pip install get-rolling-window\n",
    "!pip install da-rnn[torch]"
   ]
  },
  {
   "cell_type": "markdown",
   "metadata": {},
   "source": [
    "## Data preprocessing"
   ]
  },
  {
   "cell_type": "code",
   "execution_count": 6,
   "metadata": {
    "colab": {
     "base_uri": "https://localhost:8080/"
    },
    "executionInfo": {
     "elapsed": 746,
     "status": "ok",
     "timestamp": 1650148970049,
     "user": {
      "displayName": "Lam Ngo",
      "userId": "10830440175711572344"
     },
     "user_tz": -480
    },
    "id": "A2SAD54oZe20",
    "outputId": "0a6560f2-2747-4dcc-cc6b-52d8a64355d1"
   },
   "outputs": [
    {
     "name": "stderr",
     "output_type": "stream",
     "text": [
      "/usr/local/lib/python3.7/dist-packages/ipykernel_launcher.py:29: SettingWithCopyWarning: \n",
      "A value is trying to be set on a copy of a slice from a DataFrame.\n",
      "Try using .loc[row_indexer,col_indexer] = value instead\n",
      "\n",
      "See the caveats in the documentation: https://pandas.pydata.org/pandas-docs/stable/user_guide/indexing.html#returning-a-view-versus-a-copy\n"
     ]
    }
   ],
   "source": [
    "import pandas as pd\n",
    "from sklearn.preprocessing import StandardScaler\n",
    "import sklearn\n",
    "\n",
    "def lagger(df, n_shifts):\n",
    "  #df2 = pd.DataFrame(df, columns = ['Price'])\n",
    "  for col in [\"traffic_volume\"]:\n",
    "      for shift_amount in range(1, n_shifts+1):\n",
    "          df[f\"{col}.lag{shift_amount}\"] = df[col].shift(shift_amount)\n",
    "  df = df.dropna()\n",
    "  return df\n",
    "\n",
    "traffic_df =  pd.read_csv(dataroot)\n",
    "\n",
    "hol_col = (pd.get_dummies(traffic_df['holiday']).columns).values.tolist()\n",
    "weather_col = (pd.get_dummies(traffic_df['weather_main']).columns).values.tolist()\n",
    "\n",
    "cols = [\"temp\",\t\"rain_1h\",\t\"snow_1h\",\t\"clouds_all\", \"hour\",\t\"dayofweek\",\t\"quarter\",\t\"month\",\t\"year\",\t\"dayofyear\",\t\"dayofmonth\",\t\"weekofyear\", 'traffic_volume.lag1', 'traffic_volume.lag2', 'traffic_volume.lag3', 'traffic_volume.lag4', 'traffic_volume.lag5', 'traffic_volume.lag6', 'traffic_volume.lag7', 'traffic_volume.lag8', 'traffic_volume.lag9', 'traffic_volume.lag10']\n",
    "cols.extend(hol_col)\n",
    "cols.extend(weather_col)\n",
    "cols.extend([\"traffic_volume\"])\n",
    "traffic_df = lagger(traffic_df, 10)\n",
    "traffic_df = traffic_df.dropna()\n",
    "X = traffic_df[cols]\n",
    "#y = traffic_df[\"traffic_volume\"]\n",
    "#X_train, X_test, y_train, y_test = sklearn.model_selection.train_test_split(X, y, test_size=1000, random_state=42, shuffle = False)\n",
    "raw_data =  X\n",
    "df1 = raw_data.pop('traffic_volume') # remove column x and store it in df2\n",
    "raw_data['traffic_volume']=df1 # add b series as a 'new' column.\n",
    "\n",
    "scale = StandardScaler().fit(raw_data)\n",
    "\n",
    "if NORMALIZE_DATA:\n",
    "    data = scale.transform(raw_data)\n",
    "else:\n",
    "    data = raw_data\n",
    "    "
   ]
  },
  {
   "cell_type": "code",
   "execution_count": 7,
   "metadata": {
    "executionInfo": {
     "elapsed": 6,
     "status": "ok",
     "timestamp": 1650148970050,
     "user": {
      "displayName": "Lam Ngo",
      "userId": "10830440175711572344"
     },
     "user_tz": -480
    },
    "id": "7yM6eETPd8IA"
   },
   "outputs": [],
   "source": [
    "from get_rolling_window import rolling_window\n",
    "\n",
    "def get_labels_from_features(features, window_size, y_dim):\n",
    "    return features[window_size - 1:, -y_dim:]\n",
    "\n",
    "\n",
    "def split_by_ratio(features, validation_ratio):\n",
    "    length = len(features)\n",
    "    validation_length = int(validation_ratio * length)\n",
    "\n",
    "    return features[:-validation_length], features[-validation_length:]\n",
    "\n",
    "\n",
    "def split_data(\n",
    "    data,\n",
    "    apply,\n",
    "    window_size,\n",
    "    y_dim,\n",
    "    validation_ratio\n",
    "):\n",
    "    train_data, val_data = split_by_ratio(data, validation_ratio)\n",
    "\n",
    "    train_f, train_l = rolling_window(\n",
    "        train_data, window_size, 1\n",
    "    ), get_labels_from_features(train_data, window_size, y_dim)\n",
    "\n",
    "    val_f, val_l = rolling_window(\n",
    "        val_data, window_size, 1\n",
    "    ), get_labels_from_features(val_data, window_size, y_dim)\n",
    "\n",
    "    return apply(train_f), apply(train_l), apply(val_f), apply(val_l)\n",
    "\n"
   ]
  },
  {
   "cell_type": "code",
   "execution_count": 8,
   "metadata": {
    "colab": {
     "base_uri": "https://localhost:8080/"
    },
    "executionInfo": {
     "elapsed": 449,
     "status": "ok",
     "timestamp": 1650148970494,
     "user": {
      "displayName": "Lam Ngo",
      "userId": "10830440175711572344"
     },
     "user_tz": -480
    },
    "id": "vMmOpcpJcrN4",
    "outputId": "509ce232-1e8a-4f0b-af58-9a5a3c16e485"
   },
   "outputs": [
    {
     "name": "stdout",
     "output_type": "stream",
     "text": [
      "train_X, train_y : torch.Size([34650, 48, 46]) torch.Size([34650, 1])\n",
      "  val_X,   val_y : torch.Size([3808, 48, 46]) torch.Size([3808, 1])\n"
     ]
    }
   ],
   "source": [
    "from torch.utils.data import TensorDataset, DataLoader\n",
    "\n",
    "\n",
    "def to_tensor(array):\n",
    "    return torch.from_numpy(array).float()\n",
    "    \n",
    "data1 = data[:-9632]\n",
    "data2 = data[-9632:]\n",
    "\n",
    "train_X, train_y, val_X, val_y = split_data(data1, to_tensor, WINDOW_SIZE, Y_DIM, VALIDATION_RATIO)\n",
    "\n",
    "print('train_X, train_y :', train_X.shape, train_y.shape)\n",
    "print('  val_X,   val_y :', val_X.shape, val_y.shape)"
   ]
  },
  {
   "cell_type": "markdown",
   "metadata": {},
   "source": [
    "## Training loop"
   ]
  },
  {
   "cell_type": "code",
   "execution_count": 9,
   "metadata": {
    "colab": {
     "base_uri": "https://localhost:8080/"
    },
    "executionInfo": {
     "elapsed": 2568368,
     "status": "ok",
     "timestamp": 1650151538860,
     "user": {
      "displayName": "Lam Ngo",
      "userId": "10830440175711572344"
     },
     "user_tz": -480
    },
    "id": "Z4APvCsoefba",
    "outputId": "700c5900-29ed-4fa5-f352-b077a1d5e6ed"
   },
   "outputs": [
    {
     "name": "stdout",
     "output_type": "stream",
     "text": [
      "Epoch:   1/100 Train steps: 136 Val steps: 15 1m6.61s loss: 0.502519 val_loss: 0.131385\n",
      "Epoch 1: val_loss improved from inf to 0.13139, saving file to /content/drive/MyDrive/AIST_Project/traffic/checkpoint_torch.hdf5\n",
      "Epoch:   2/100 Train steps: 136 Val steps: 15 1m6.13s loss: 0.132105 val_loss: 0.078710\n",
      "Epoch 2: val_loss improved from 0.13139 to 0.07871, saving file to /content/drive/MyDrive/AIST_Project/traffic/checkpoint_torch.hdf5\n",
      "Epoch:   3/100 Train steps: 136 Val steps: 15 1m5.36s loss: 0.111384 val_loss: 0.077711\n",
      "Epoch 3: val_loss improved from 0.07871 to 0.07771, saving file to /content/drive/MyDrive/AIST_Project/traffic/checkpoint_torch.hdf5\n",
      "Epoch:   4/100 Train steps: 136 Val steps: 15 1m5.39s loss: 0.103035 val_loss: 0.066510\n",
      "Epoch 4: val_loss improved from 0.07771 to 0.06651, saving file to /content/drive/MyDrive/AIST_Project/traffic/checkpoint_torch.hdf5\n",
      "Epoch:   5/100 Train steps: 136 Val steps: 15 1m5.29s loss: 0.098420 val_loss: 0.066137\n",
      "Epoch 5: val_loss improved from 0.06651 to 0.06614, saving file to /content/drive/MyDrive/AIST_Project/traffic/checkpoint_torch.hdf5\n",
      "Epoch:   6/100 Train steps: 136 Val steps: 15 1m5.55s loss: 0.096132 val_loss: 0.070080\n",
      "Epoch:   7/100 Train steps: 136 Val steps: 15 1m5.60s loss: 0.093241 val_loss: 0.063364\n",
      "Epoch 7: val_loss improved from 0.06614 to 0.06336, saving file to /content/drive/MyDrive/AIST_Project/traffic/checkpoint_torch.hdf5\n",
      "Epoch:   8/100 Train steps: 136 Val steps: 15 1m5.51s loss: 0.089788 val_loss: 0.057625\n",
      "Epoch 8: val_loss improved from 0.06336 to 0.05763, saving file to /content/drive/MyDrive/AIST_Project/traffic/checkpoint_torch.hdf5\n",
      "Epoch:   9/100 Train steps: 136 Val steps: 15 1m5.46s loss: 0.086574 val_loss: 0.056357\n",
      "Epoch 9: val_loss improved from 0.05763 to 0.05636, saving file to /content/drive/MyDrive/AIST_Project/traffic/checkpoint_torch.hdf5\n",
      "Epoch:  10/100 Train steps: 136 Val steps: 15 1m5.51s loss: 0.084181 val_loss: 0.053225\n",
      "Epoch 10: val_loss improved from 0.05636 to 0.05322, saving file to /content/drive/MyDrive/AIST_Project/traffic/checkpoint_torch.hdf5\n",
      "Epoch:  11/100 Train steps: 136 Val steps: 15 1m5.51s loss: 0.081029 val_loss: 0.052012\n",
      "Epoch 11: val_loss improved from 0.05322 to 0.05201, saving file to /content/drive/MyDrive/AIST_Project/traffic/checkpoint_torch.hdf5\n",
      "Epoch:  12/100 Train steps: 136 Val steps: 15 1m5.64s loss: 0.079626 val_loss: 0.056357\n",
      "Epoch:  13/100 Train steps: 136 Val steps: 15 1m5.51s loss: 0.077821 val_loss: 0.054097\n",
      "Epoch:  14/100 Train steps: 136 Val steps: 15 1m5.47s loss: 0.076541 val_loss: 0.052158\n",
      "Epoch:  15/100 Train steps: 136 Val steps: 15 1m5.42s loss: 0.075557 val_loss: 0.049395\n",
      "Epoch 15: val_loss improved from 0.05201 to 0.04940, saving file to /content/drive/MyDrive/AIST_Project/traffic/checkpoint_torch.hdf5\n",
      "Epoch:  16/100 Train steps: 136 Val steps: 15 1m5.59s loss: 0.073572 val_loss: 0.048150\n",
      "Epoch 16: val_loss improved from 0.04940 to 0.04815, saving file to /content/drive/MyDrive/AIST_Project/traffic/checkpoint_torch.hdf5\n",
      "Epoch:  17/100 Train steps: 136 Val steps: 15 1m5.51s loss: 0.073062 val_loss: 0.049812\n",
      "Epoch:  18/100 Train steps: 136 Val steps: 15 1m5.53s loss: 0.071254 val_loss: 0.051156\n",
      "Epoch:  19/100 Train steps: 136 Val steps: 15 1m5.42s loss: 0.070655 val_loss: 0.047174\n",
      "Epoch 19: val_loss improved from 0.04815 to 0.04717, saving file to /content/drive/MyDrive/AIST_Project/traffic/checkpoint_torch.hdf5\n",
      "Epoch:  20/100 Train steps: 136 Val steps: 15 1m5.45s loss: 0.070369 val_loss: 0.046420\n",
      "Epoch 20: val_loss improved from 0.04717 to 0.04642, saving file to /content/drive/MyDrive/AIST_Project/traffic/checkpoint_torch.hdf5\n",
      "Epoch:  21/100 Train steps: 136 Val steps: 15 1m5.55s loss: 0.067920 val_loss: 0.047363\n",
      "Epoch:  22/100 Train steps: 136 Val steps: 15 1m5.52s loss: 0.066773 val_loss: 0.044409\n",
      "Epoch 22: val_loss improved from 0.04642 to 0.04441, saving file to /content/drive/MyDrive/AIST_Project/traffic/checkpoint_torch.hdf5\n",
      "Epoch:  23/100 Train steps: 136 Val steps: 15 1m5.43s loss: 0.067057 val_loss: 0.042931\n",
      "Epoch 23: val_loss improved from 0.04441 to 0.04293, saving file to /content/drive/MyDrive/AIST_Project/traffic/checkpoint_torch.hdf5\n",
      "Epoch:  24/100 Train steps: 136 Val steps: 15 1m5.47s loss: 0.064751 val_loss: 0.043057\n",
      "Epoch:  25/100 Train steps: 136 Val steps: 15 1m5.35s loss: 0.063947 val_loss: 0.042269\n",
      "Epoch 25: val_loss improved from 0.04293 to 0.04227, saving file to /content/drive/MyDrive/AIST_Project/traffic/checkpoint_torch.hdf5\n",
      "Epoch:  26/100 Train steps: 136 Val steps: 15 1m5.50s loss: 0.063147 val_loss: 0.044407\n",
      "Epoch:  27/100 Train steps: 136 Val steps: 15 1m5.54s loss: 0.064529 val_loss: 0.044082\n",
      "Epoch:  28/100 Train steps: 136 Val steps: 15 1m5.44s loss: 0.061878 val_loss: 0.041093\n",
      "Epoch 28: val_loss improved from 0.04227 to 0.04109, saving file to /content/drive/MyDrive/AIST_Project/traffic/checkpoint_torch.hdf5\n",
      "Epoch:  29/100 Train steps: 136 Val steps: 15 1m5.48s loss: 0.060716 val_loss: 0.041606\n",
      "Epoch:  30/100 Train steps: 136 Val steps: 15 1m5.47s loss: 0.060299 val_loss: 0.041079\n",
      "Epoch 30: val_loss improved from 0.04109 to 0.04108, saving file to /content/drive/MyDrive/AIST_Project/traffic/checkpoint_torch.hdf5\n",
      "Epoch:  31/100 Train steps: 136 Val steps: 15 1m5.48s loss: 0.058530 val_loss: 0.041585\n",
      "Epoch:  32/100 Train steps: 136 Val steps: 15 1m5.57s loss: 0.059467 val_loss: 0.043144\n",
      "Epoch:  33/100 Train steps: 136 Val steps: 15 1m5.57s loss: 0.057092 val_loss: 0.043155\n",
      "Epoch:  34/100 Train steps: 136 Val steps: 15 1m5.48s loss: 0.057809 val_loss: 0.038902\n",
      "Epoch 34: val_loss improved from 0.04108 to 0.03890, saving file to /content/drive/MyDrive/AIST_Project/traffic/checkpoint_torch.hdf5\n",
      "Epoch:  35/100 Train steps: 136 Val steps: 15 1m5.49s loss: 0.056281 val_loss: 0.040397\n",
      "Epoch:  36/100 Train steps: 136 Val steps: 15 1m5.48s loss: 0.055133 val_loss: 0.041625\n",
      "Epoch:  37/100 Train steps: 136 Val steps: 15 1m5.52s loss: 0.053190 val_loss: 0.046050\n",
      "Epoch:  38/100 Train steps: 136 Val steps: 15 1m5.63s loss: 0.053329 val_loss: 0.040945\n",
      "Epoch:  39/100 Train steps: 136 Val steps: 15 1m5.55s loss: 0.056643 val_loss: 0.042191\n"
     ]
    }
   ],
   "source": [
    "from da_rnn.torch import DARNN, DEVICE\n",
    "from poutyne import Model, EarlyStopping, ModelCheckpoint\n",
    "\n",
    "EPOCHS = 100\n",
    "\n",
    "darnn = DARNN(\n",
    "    n=train_X.shape[2] - 1,\n",
    "    T=WINDOW_SIZE,\n",
    "    m=ENCODER_HIDDEN_STATES,\n",
    "    p=DECODER_HIDDEN_STATES,\n",
    "    y_dim=Y_DIM,\n",
    "    dropout=DROPOUT\n",
    ")\n",
    "\n",
    "model = Model(\n",
    "    darnn,\n",
    "    'adam',\n",
    "    'mse',\n",
    "    device=DEVICE\n",
    ")\n",
    "\n",
    "save_to = dirname / 'checkpoint_torch.hdf5'\n",
    "\n",
    "history = model.fit(\n",
    "    train_X, train_y,\n",
    "    validation_data=(val_X, val_y),\n",
    "    epochs=EPOCHS,\n",
    "    batch_size=BATCH_SIZE,\n",
    "    callbacks=[\n",
    "        EarlyStopping(monitor='val_loss', patience=5),\n",
    "        ModelCheckpoint(\n",
    "            str(save_to.absolute()),\n",
    "            monitor='val_loss',\n",
    "            verbose=1,\n",
    "            save_best_only=True,\n",
    "            keep_only_last_best=True\n",
    "        )\n",
    "    ]\n",
    ")"
   ]
  },
  {
   "cell_type": "markdown",
   "metadata": {
    "executionInfo": {
     "elapsed": 20,
     "status": "ok",
     "timestamp": 1650151538861,
     "user": {
      "displayName": "Lam Ngo",
      "userId": "10830440175711572344"
     },
     "user_tz": -480
    },
    "id": "1jIgQ_fMPE2C"
   },
   "source": [
    "## Performance"
   ]
  },
  {
   "cell_type": "code",
   "execution_count": 12,
   "metadata": {
    "executionInfo": {
     "elapsed": 724,
     "status": "ok",
     "timestamp": 1650151566400,
     "user": {
      "displayName": "Lam Ngo",
      "userId": "10830440175711572344"
     },
     "user_tz": -480
    },
    "id": "efh8Klnq4uhr"
   },
   "outputs": [],
   "source": [
    "from sklearn.metrics import mean_squared_error\n",
    "VALIDATION_RATIO = 0.005\n",
    "train_X, train_y, val_X, val_y = split_data(data2, to_tensor, WINDOW_SIZE, Y_DIM, VALIDATION_RATIO)\n",
    "\n",
    "def predict(model, X):\n",
    "    with torch.no_grad():\n",
    "        return model(X)\n",
    "train_X = torch.cat((train_X, val_X), 0)\n",
    "train_y = torch.cat((train_y, val_y), 0)\n",
    "\n",
    "train_y_hat = predict(darnn, train_X.to(DEVICE))\n"
   ]
  },
  {
   "cell_type": "code",
   "execution_count": 15,
   "metadata": {
    "colab": {
     "base_uri": "https://localhost:8080/"
    },
    "executionInfo": {
     "elapsed": 269,
     "status": "ok",
     "timestamp": 1650151618381,
     "user": {
      "displayName": "Lam Ngo",
      "userId": "10830440175711572344"
     },
     "user_tz": -480
    },
    "id": "Q2dF3g0TEMos",
    "outputId": "87cdae5a-70df-408c-fad5-18326cda95dc"
   },
   "outputs": [
    {
     "name": "stdout",
     "output_type": "stream",
     "text": [
      "0.19626883\n",
      "0.13722344\n",
      "(0.9803509673048962, 0.0)\n"
     ]
    }
   ],
   "source": [
    "#y_hat = (scale.inverse_transform(train_y_hat.cpu().repeat(1,46).numpy()))[:,-1]\n",
    "#y = (scale.inverse_transform(train_y.cpu().repeat(1,46).numpy()))[:,-1]\n",
    "from scipy.stats import pearsonr\n",
    "\n",
    "y_hat = ((train_y_hat.cpu().repeat(1,46).numpy()))[:,-1]\n",
    "y = ((train_y.cpu().repeat(1,46).numpy()))[:,-1]\n",
    "print(mean_squared_error(y, y_hat, squared=False))\n",
    "print(mean_absolute_error(y, y_hat))\n",
    "print(pearsonr(y, y_hat))"
   ]
  },
  {
   "cell_type": "code",
   "execution_count": 14,
   "metadata": {
    "colab": {
     "base_uri": "https://localhost:8080/",
     "height": 442
    },
    "executionInfo": {
     "elapsed": 1183,
     "status": "ok",
     "timestamp": 1650151579969,
     "user": {
      "displayName": "Lam Ngo",
      "userId": "10830440175711572344"
     },
     "user_tz": -480
    },
    "id": "tSJz-FvBPcg5",
    "outputId": "90e49a26-b498-4f0c-e3a6-6d2cf41555c7"
   },
   "outputs": [
    {
     "data": {
      "image/png": "[encoded data removed]",
      "text/plain": [
       "<Figure size 1332x756 with 1 Axes>"
      ]
     },
     "metadata": {
      "needs_background": "light"
     },
     "output_type": "display_data"
    }
   ],
   "source": [
    "x = np.arange(0,len(y_hat)) \n",
    "fig = plt.gcf()\n",
    "fig.set_size_inches(18.5, 10.5)\n",
    "plt.plot(x, y - y_hat, label = \"True - Predictions\")\n",
    "#plt.plot(x,y_test,  label = \"True\")\n",
    "plt.legend()\n",
    "plt.show()"
   ]
  },
  {
   "cell_type": "code",
   "execution_count": null,
   "metadata": {
    "executionInfo": {
     "elapsed": 17,
     "status": "aborted",
     "timestamp": 1650151539477,
     "user": {
      "displayName": "Lam Ngo",
      "userId": "10830440175711572344"
     },
     "user_tz": -480
    },
    "id": "dNOo6POCPsYg"
   },
   "outputs": [],
   "source": [
    "len(val_X)"
   ]
  }
 ],
 "metadata": {
  "colab": {
   "authorship_tag": "ABX9TyPFzywsY6d0rePj9B1U52XX",
   "collapsed_sections": [],
   "name": "DARNN.ipynb",
   "provenance": []
  },
  "kernelspec": {
   "display_name": "Python 3 (ipykernel)",
   "language": "python",
   "name": "python3"
  },
  "language_info": {
   "codemirror_mode": {
    "name": "ipython",
    "version": 3
   },
   "file_extension": ".py",
   "mimetype": "text/x-python",
   "name": "python",
   "nbconvert_exporter": "python",
   "pygments_lexer": "ipython3",
   "version": "3.7.3"
  }
 },
 "nbformat": 4,
 "nbformat_minor": 1
}
